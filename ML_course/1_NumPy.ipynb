{
 "cells": [
  {
   "cell_type": "markdown",
   "id": "1a48249f-214b-4779-9471-a69252d21ec4",
   "metadata": {},
   "source": [
    "# Знакомство с NumPy"
   ]
  },
  {
   "cell_type": "code",
   "execution_count": 2,
   "id": "86c70ad6-ed89-46c8-9a03-3b09f1b6d263",
   "metadata": {},
   "outputs": [],
   "source": [
    "import numpy as np"
   ]
  },
  {
   "cell_type": "code",
   "execution_count": 3,
   "id": "090f914f-fc23-4c24-973e-880178d15f8d",
   "metadata": {},
   "outputs": [],
   "source": [
    "a = np.array([10, 20, 30, 40, 50, 60])"
   ]
  },
  {
   "cell_type": "code",
   "execution_count": 5,
   "id": "8571d2e9-f1da-4fc3-bc6e-678541c115d7",
   "metadata": {},
   "outputs": [],
   "source": [
    "mask = a > 30"
   ]
  },
  {
   "cell_type": "code",
   "execution_count": 8,
   "id": "0fb0a0cc-006e-40ec-aebe-4504a29aef3b",
   "metadata": {},
   "outputs": [
    {
     "name": "stdout",
     "output_type": "stream",
     "text": [
      "[40 50 60]\n"
     ]
    }
   ],
   "source": [
    "filtered = a[mask]\n",
    "print(filtered)"
   ]
  },
  {
   "cell_type": "code",
   "execution_count": null,
   "id": "173d5e5e-fe44-45dd-9601-01c898193b31",
   "metadata": {},
   "outputs": [],
   "source": []
  }
 ],
 "metadata": {
  "kernelspec": {
   "display_name": "Python 3 (ipykernel)",
   "language": "python",
   "name": "python3"
  },
  "language_info": {
   "codemirror_mode": {
    "name": "ipython",
    "version": 3
   },
   "file_extension": ".py",
   "mimetype": "text/x-python",
   "name": "python",
   "nbconvert_exporter": "python",
   "pygments_lexer": "ipython3",
   "version": "3.12.5"
  }
 },
 "nbformat": 4,
 "nbformat_minor": 5
}
