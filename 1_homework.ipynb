{
 "cells": [
  {
   "cell_type": "markdown",
   "id": "1fce323e-a30f-49f9-9902-c5d8a3aa923e",
   "metadata": {},
   "source": [
    "# Домашнее задание №1."
   ]
  },
  {
   "cell_type": "markdown",
   "id": "0b882616-b59f-47db-9e23-d00495da2495",
   "metadata": {},
   "source": [
    "## 1. Нахождение множества уникальных геометок всех пользователей"
   ]
  },
  {
   "cell_type": "code",
   "execution_count": 20,
   "id": "b75e47f5-4f27-4b5a-b7c3-90abba636415",
   "metadata": {},
   "outputs": [
    {
     "name": "stdout",
     "output_type": "stream",
     "text": [
      "{98, 35, 15, 213, 54, 119}\n"
     ]
    }
   ],
   "source": [
    "ids = {'user1': [213, 213, 213, 15, 213], \n",
    "       'user2': [54, 54, 119, 119, 119], \n",
    "       'user3': [213, 98, 98, 35]}\n",
    "\n",
    "list_union = []\n",
    "for item in ids.values():\n",
    "    list_union.extend(item)\n",
    "\n",
    "uniq_tags = set(list_union)\n",
    "print(uniq_tags)\n"
   ]
  },
  {
   "cell_type": "markdown",
   "id": "b7d992cf-9e65-4e4b-b28c-b1b6ef44ab60",
   "metadata": {},
   "source": [
    "## 2. Распределение количества слов в запросах"
   ]
  },
  {
   "cell_type": "code",
   "execution_count": 31,
   "id": "4ebfdaec-15ae-41ef-9e15-ee3b5b6c898f",
   "metadata": {},
   "outputs": [
    {
     "name": "stdout",
     "output_type": "stream",
     "text": [
      "Поисковых запросов, содержащих 2 слов(а): 42.86 %\n",
      "Поисковых запросов, содержащих 3 слов(а): 57.14 %\n"
     ]
    }
   ],
   "source": [
    "queries = [\n",
    "    'смотреть сериалы онлайн',\n",
    "    'новости спорта',\n",
    "    'афиша кино',\n",
    "    'курс доллара',\n",
    "    'сериалы этим летом',\n",
    "    'курс по питону',\n",
    "    'сериалы про спорт',\n",
    "]\n",
    "\n",
    "stat_dict = {}\n",
    "for q in queries:\n",
    "    query_len = len(q.split())\n",
    "    stat_dict.setdefault(query_len, 0)\n",
    "    stat_dict[query_len] += 1\n",
    "\n",
    "for key, value in sorted(stat_dict.items()):\n",
    "    print(f\"Поисковых запросов, содержащих {key} слов(а): {value / len(queries) * 100 :.2f} %\")"
   ]
  }
 ],
 "metadata": {
  "kernelspec": {
   "display_name": "Python 3 (ipykernel)",
   "language": "python",
   "name": "python3"
  },
  "language_info": {
   "codemirror_mode": {
    "name": "ipython",
    "version": 3
   },
   "file_extension": ".py",
   "mimetype": "text/x-python",
   "name": "python",
   "nbconvert_exporter": "python",
   "pygments_lexer": "ipython3",
   "version": "3.12.6"
  }
 },
 "nbformat": 4,
 "nbformat_minor": 5
}
