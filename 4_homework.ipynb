{
 "cells": [
  {
   "cell_type": "markdown",
   "id": "994fa647-48b6-4671-9eb8-d3aad246ba72",
   "metadata": {},
   "source": [
    "# Задание №1"
   ]
  },
  {
   "cell_type": "code",
   "execution_count": 71,
   "id": "0a85df98-6fab-48b0-ba80-bd8582a94fac",
   "metadata": {},
   "outputs": [],
   "source": [
    "import json"
   ]
  },
  {
   "cell_type": "code",
   "execution_count": 72,
   "id": "5663f90b-edf6-4363-8781-226a93b6967a",
   "metadata": {},
   "outputs": [],
   "source": [
    "def get_purchases():\n",
    "    purchase_dict = {}\n",
    "    \n",
    "    with open(\"purchase_log.txt\") as f:\n",
    "        lines = f.readlines()[1:]\n",
    "        \n",
    "        for line in lines:\n",
    "            line_dict = json.loads(line)\n",
    "            purchase_dict[line_dict[\"user_id\"]] = line_dict[\"category\"]\n",
    "\n",
    "    return purchase_dict"
   ]
  },
  {
   "cell_type": "code",
   "execution_count": 73,
   "id": "3bf234e3-79de-4f3c-a735-d926bd3a2c9d",
   "metadata": {},
   "outputs": [],
   "source": [
    "purchases = get_purchases()\n"
   ]
  },
  {
   "cell_type": "code",
   "execution_count": 74,
   "id": "77b55100-66f8-4051-aa54-ab7766a57bdb",
   "metadata": {},
   "outputs": [
    {
     "name": "stdout",
     "output_type": "stream",
     "text": [
      "{'1840e0b9d4': 'Продукты', '4e4f90fcfb': 'Электроника'}\n"
     ]
    }
   ],
   "source": [
    "print({k: purchases[k] for k in list(purchases.keys())[:2]})\n"
   ]
  },
  {
   "cell_type": "markdown",
   "id": "f30a6772-2fb6-44b0-920c-3b02f7803ce3",
   "metadata": {},
   "source": [
    "# Задание №2"
   ]
  },
  {
   "cell_type": "code",
   "execution_count": 75,
   "id": "f0aad042-b086-4291-9038-4eba61b6a93a",
   "metadata": {},
   "outputs": [],
   "source": [
    "def gen_funnel():\n",
    "    with open(\"visit_log.csv\") as visit_file, open(\"funnel.csv\", \"w\") as funnel_file:\n",
    "        funnel_file.write(\"user_id,source,category\\n\")\n",
    "        for line in visit_file:\n",
    "            line_list = line.strip().split(\",\")\n",
    "            user_id, source = line_list\n",
    "            if purchases.get(user_id):\n",
    "                funnel_file.write(\",\".join((user_id, source, purchases[user_id] + \"\\n\")))\n",
    "        "
   ]
  },
  {
   "cell_type": "code",
   "execution_count": 76,
   "id": "819d7eb5-0104-437c-98ba-c24b1928e4f1",
   "metadata": {},
   "outputs": [],
   "source": [
    "gen_funnel()"
   ]
  },
  {
   "cell_type": "code",
   "execution_count": null,
   "id": "891b4017-5713-4cd3-912a-9775126f1557",
   "metadata": {},
   "outputs": [],
   "source": []
  }
 ],
 "metadata": {
  "kernelspec": {
   "display_name": "Python 3 (ipykernel)",
   "language": "python",
   "name": "python3"
  },
  "language_info": {
   "codemirror_mode": {
    "name": "ipython",
    "version": 3
   },
   "file_extension": ".py",
   "mimetype": "text/x-python",
   "name": "python",
   "nbconvert_exporter": "python",
   "pygments_lexer": "ipython3",
   "version": "3.12.5"
  }
 },
 "nbformat": 4,
 "nbformat_minor": 5
}
