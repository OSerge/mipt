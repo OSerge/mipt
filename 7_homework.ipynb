{
 "cells": [
  {
   "cell_type": "markdown",
   "id": "8a62c25b-2516-47d0-8c4d-d40eabf2b496",
   "metadata": {},
   "source": [
    "# Домашняя работа #7"
   ]
  },
  {
   "cell_type": "code",
   "execution_count": 1,
   "id": "0f999a45-50e2-4bc6-b80f-ba5232c134a4",
   "metadata": {},
   "outputs": [],
   "source": [
    "import re"
   ]
  },
  {
   "cell_type": "code",
   "execution_count": 47,
   "id": "67a210b4-73ce-4d36-afe5-aef636e6a3a9",
   "metadata": {},
   "outputs": [],
   "source": [
    "def check_car_number_validity(car_id: str) -> tuple:\n",
    "    \"\"\"\n",
    "    Если номер автомобиля валидный, то возвращает кортеж (номер, регион), иначе None.\n",
    "    \"\"\"\n",
    "    car_id = car_id.strip()\n",
    "    alphabet = r'АВЕКМНОРСТУХABEKMHOPCTYX'  # возможные в номере буквы (сначала кириллица)\n",
    "    regex = re.compile(rf'^([{alphabet}]{{1}}\\d{{3}}[{alphabet}]{{2}})(\\d{{2,3}})$')\n",
    "    \n",
    "    res = regex.search(car_id)\n",
    "    if res:\n",
    "        return res.groups()[0], res.groups()[1]"
   ]
  },
  {
   "cell_type": "code",
   "execution_count": 56,
   "id": "cd02a314-f89c-420c-969a-b0bc12a73ad8",
   "metadata": {},
   "outputs": [
    {
     "name": "stdout",
     "output_type": "stream",
     "text": [
      "Номер А494ХР валиден. Регион: 125.\n"
     ]
    }
   ],
   "source": [
    "car_id = 'А494ХР125'\n",
    "res = check_car_number_validity(car_id)\n",
    "if res:\n",
    "    print(f\"Номер {res[0]} валиден. Регион: {res[1]}.\")\n",
    "else:\n",
    "    print(\"Номер не валиден.\")"
   ]
  },
  {
   "cell_type": "code",
   "execution_count": null,
   "id": "122225ab-3e0b-45cb-8164-026d9f1e329a",
   "metadata": {},
   "outputs": [],
   "source": []
  }
 ],
 "metadata": {
  "kernelspec": {
   "display_name": "Python 3 (ipykernel)",
   "language": "python",
   "name": "python3"
  },
  "language_info": {
   "codemirror_mode": {
    "name": "ipython",
    "version": 3
   },
   "file_extension": ".py",
   "mimetype": "text/x-python",
   "name": "python",
   "nbconvert_exporter": "python",
   "pygments_lexer": "ipython3",
   "version": "3.12.5"
  }
 },
 "nbformat": 4,
 "nbformat_minor": 5
}
