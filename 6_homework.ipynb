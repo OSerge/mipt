{
 "cells": [
  {
   "cell_type": "markdown",
   "id": "53ee6c45-c04d-4fd7-a5fc-b6780c68dcb7",
   "metadata": {},
   "source": [
    "# Домашняя работа №6"
   ]
  },
  {
   "cell_type": "code",
   "execution_count": 1,
   "id": "f807e09d-67c9-40d4-8ed4-a31fd6ad327e",
   "metadata": {},
   "outputs": [],
   "source": [
    "import json\n",
    "import requests"
   ]
  },
  {
   "cell_type": "code",
   "execution_count": 29,
   "id": "37a57fef-22de-4c83-a40c-3619b348941d",
   "metadata": {},
   "outputs": [],
   "source": [
    "class CBRCurrencyHandler:\n",
    "    cbr_data_url = \"https://www.cbr-xml-daily.ru/daily_json.js\"\n",
    "    \n",
    "    def __init__(self):\n",
    "        self._cbr_data = requests.get(self.cbr_data_url)\n",
    "        \n",
    "    def get_max_rate_currency_name(self):\n",
    "        \"\"\"\n",
    "        Возвращает название валюты (поле Name) с максимальным значением курса \n",
    "        с помощью сервиса: https://www.cbr-xml-daily.ru/daily_json.js\n",
    "        \"\"\"\n",
    "        valute_dict = json.loads(self._cbr_data.content)[\"Valute\"]\n",
    "\n",
    "        max_rate = 0\n",
    "        max_rate_currency = ''\n",
    "        for name, params in valute_dict.items():\n",
    "            if params[\"Value\"] > max_rate:\n",
    "                max_rate = params[\"Value\"]\n",
    "                max_rate_currency = params[\"Name\"]\n",
    "\n",
    "        return max_rate_currency"
   ]
  },
  {
   "cell_type": "code",
   "execution_count": 33,
   "id": "9101f042-049d-43b8-b734-2e43cd4b3fed",
   "metadata": {},
   "outputs": [],
   "source": [
    "currency_handler = CBRCurrencyHandler()"
   ]
  },
  {
   "cell_type": "code",
   "execution_count": 34,
   "id": "7ce931de-eea2-4eeb-8ec0-3c2f261cb7f3",
   "metadata": {},
   "outputs": [
    {
     "data": {
      "text/plain": [
       "'СДР (специальные права заимствования)'"
      ]
     },
     "execution_count": 34,
     "metadata": {},
     "output_type": "execute_result"
    }
   ],
   "source": [
    "currency_handler.get_max_rate_currency_name()"
   ]
  }
 ],
 "metadata": {
  "kernelspec": {
   "display_name": "Python 3 (ipykernel)",
   "language": "python",
   "name": "python3"
  },
  "language_info": {
   "codemirror_mode": {
    "name": "ipython",
    "version": 3
   },
   "file_extension": ".py",
   "mimetype": "text/x-python",
   "name": "python",
   "nbconvert_exporter": "python",
   "pygments_lexer": "ipython3",
   "version": "3.12.5"
  }
 },
 "nbformat": 4,
 "nbformat_minor": 5
}
