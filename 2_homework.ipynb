{
 "cells": [
  {
   "cell_type": "markdown",
   "metadata": {},
   "source": [
    "# Помогаем секретарю автоматизировать работу."
   ]
  },
  {
   "cell_type": "code",
   "execution_count": 24,
   "metadata": {},
   "outputs": [],
   "source": [
    "documents = [\n",
    "    {'type': 'passport', 'number': '2207 876234', 'name': 'Vasiliy Gupkin'},\n",
    "    {'type': 'invoice', 'number': '11-2', 'name': 'Gennadiy Pokemonskiy'},\n",
    "    {'type': 'insurance', 'number': '10006', 'name': 'Aristarkh Pavlov'},\n",
    "]\n",
    "\n",
    "directories = {\n",
    "    '1': ['2207 876234', '11-2'],\n",
    "    '2': ['10006'],\n",
    "    '3': [],\n",
    "}"
   ]
  },
  {
   "cell_type": "code",
   "execution_count": 25,
   "metadata": {},
   "outputs": [],
   "source": [
    "def search_owner_by_number(documents=documents):\n",
    "    \"\"\"\n",
    "    Возвращает владельца документа по номеру документа\n",
    "    \"\"\"\n",
    "    number = input(\"Введите номер документа: \")\n",
    "    \n",
    "    for doc in documents:\n",
    "        if doc['number'] == number:\n",
    "            return doc['name']"
   ]
  },
  {
   "cell_type": "code",
   "execution_count": 26,
   "metadata": {},
   "outputs": [],
   "source": [
    "def search_dir_by_number(directories=directories):\n",
    "    \"\"\"\n",
    "    Возвращает номер полки по номеру документа\n",
    "    \"\"\"\n",
    "    number = input(\"Введите номер документа: \")\n",
    "    \n",
    "    for dir_num, doc_list in directories.items():\n",
    "        if number in doc_list:\n",
    "            return dir_num"
   ]
  },
  {
   "cell_type": "code",
   "execution_count": 27,
   "metadata": {},
   "outputs": [],
   "source": [
    "def main():\n",
    "    \"\"\"Main program loop.\"\"\"\n",
    "    while True:\n",
    "        command = input(\"Введите команду (q - выйти): \")\n",
    "        if command == 'q':\n",
    "            break\n",
    "        elif command == 'p':\n",
    "            owner = search_owner_by_number()\n",
    "            if owner:\n",
    "                print(\"Владелец документа:\", owner)\n",
    "            else:\n",
    "                print(\"Владелец не найден.\")\n",
    "        elif command == 's':\n",
    "            directory = search_dir_by_number()\n",
    "            if directory:\n",
    "                print(\"Документ хранится на полке:\", directory)\n",
    "            else:\n",
    "                print(\"Полка документа не определена.\")\n",
    "        else:\n",
    "            print(\"Invalid command.\")"
   ]
  },
  {
   "cell_type": "code",
   "execution_count": 28,
   "metadata": {
    "scrolled": true
   },
   "outputs": [
    {
     "name": "stdin",
     "output_type": "stream",
     "text": [
      "Введите команду (q - выйти):  p\n",
      "Введите номер документа:  10006\n"
     ]
    },
    {
     "name": "stdout",
     "output_type": "stream",
     "text": [
      "Владелец документа: Aristarkh Pavlov\n"
     ]
    },
    {
     "name": "stdin",
     "output_type": "stream",
     "text": [
      "Введите команду (q - выйти):  p\n",
      "Введите номер документа:  11-2\n"
     ]
    },
    {
     "name": "stdout",
     "output_type": "stream",
     "text": [
      "Владелец документа: Gennadiy Pokemonskiy\n"
     ]
    },
    {
     "name": "stdin",
     "output_type": "stream",
     "text": [
      "Введите команду (q - выйти):  s\n",
      "Введите номер документа:  11-2\n"
     ]
    },
    {
     "name": "stdout",
     "output_type": "stream",
     "text": [
      "Документ хранится на полке: 1\n"
     ]
    },
    {
     "name": "stdin",
     "output_type": "stream",
     "text": [
      "Введите команду (q - выйти):  q\n"
     ]
    }
   ],
   "source": [
    "if __name__ == '__main__':\n",
    "    main()"
   ]
  }
 ],
 "metadata": {
  "kernelspec": {
   "display_name": "Python 3 (ipykernel)",
   "language": "python",
   "name": "python3"
  },
  "language_info": {
   "codemirror_mode": {
    "name": "ipython",
    "version": 3
   },
   "file_extension": ".py",
   "mimetype": "text/x-python",
   "name": "python",
   "nbconvert_exporter": "python",
   "pygments_lexer": "ipython3",
   "version": "3.12.5"
  }
 },
 "nbformat": 4,
 "nbformat_minor": 4
}
