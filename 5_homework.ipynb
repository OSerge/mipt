{
 "cells": [
  {
   "cell_type": "markdown",
   "id": "2e626187-4138-420e-acf0-962131a32522",
   "metadata": {},
   "source": [
    "# Домашняя работа №5\n"
   ]
  },
  {
   "cell_type": "code",
   "execution_count": 5,
   "id": "11b644ab-6e6c-43ac-9589-9da23f413e08",
   "metadata": {},
   "outputs": [],
   "source": [
    "from datetime import datetime"
   ]
  },
  {
   "cell_type": "code",
   "execution_count": 9,
   "id": "1fdff949-8feb-4eb9-ae9b-42830df70f3c",
   "metadata": {},
   "outputs": [
    {
     "name": "stdout",
     "output_type": "stream",
     "text": [
      "2002-10-02 00:00:00\n"
     ]
    }
   ],
   "source": [
    "# The Moscow Times — Wednesday, October 2, 2002\n",
    "# The Guardian — Friday, 11.10.13\n",
    "# Daily News — Thursday, 18 August 1977\n",
    "\n",
    "moscow_times_date = \"Wednesday, October 2, 2002\"\n",
    "\n",
    "def get_moscow_datetime(date_str):\n",
    "    # try:\n",
    "    return datetime.strptime(date_str, \"%A, %B %d, %Y\")\n",
    "\n",
    "print(get_moscow_time(moscow_times_date))"
   ]
  },
  {
   "cell_type": "code",
   "execution_count": 11,
   "id": "68d1be70-84bd-4321-960e-d8e094719919",
   "metadata": {},
   "outputs": [
    {
     "name": "stdout",
     "output_type": "stream",
     "text": [
      "2011-10-13 00:00:00\n"
     ]
    }
   ],
   "source": [
    "guardian_date = \"Friday, 11.10.13\"\n",
    "\n",
    "def get_guardian_datetime(date_str):\n",
    "    # try:\n",
    "    return datetime.strptime(date_str, \"%A, %y.%m.%d\")\n",
    "\n",
    "print(get_guardian_datetime(guardian_date))"
   ]
  },
  {
   "cell_type": "code",
   "execution_count": 12,
   "id": "b5c0bbbb-6b79-4efb-8101-330714dea981",
   "metadata": {},
   "outputs": [
    {
     "name": "stdout",
     "output_type": "stream",
     "text": [
      "1977-08-18 00:00:00\n"
     ]
    }
   ],
   "source": [
    "daily_news_date = \"Thursday, 18 August 1977\"\n",
    "\n",
    "def get_daily_news_datetime(date_str):\n",
    "    # try:\n",
    "    return datetime.strptime(date_str, \"%A, %d %B %Y\")\n",
    "\n",
    "print(get_daily_news_datetime(daily_news_date))"
   ]
  },
  {
   "cell_type": "code",
   "execution_count": null,
   "id": "28f58f90-7bdb-40b7-9fdb-d4713c278575",
   "metadata": {},
   "outputs": [],
   "source": []
  }
 ],
 "metadata": {
  "kernelspec": {
   "display_name": "Python 3 (ipykernel)",
   "language": "python",
   "name": "python3"
  },
  "language_info": {
   "codemirror_mode": {
    "name": "ipython",
    "version": 3
   },
   "file_extension": ".py",
   "mimetype": "text/x-python",
   "name": "python",
   "nbconvert_exporter": "python",
   "pygments_lexer": "ipython3",
   "version": "3.12.6"
  }
 },
 "nbformat": 4,
 "nbformat_minor": 5
}
